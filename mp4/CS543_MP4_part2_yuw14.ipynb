{
  "nbformat": 4,
  "nbformat_minor": 0,
  "metadata": {
    "colab": {
      "name": "Copy of CS543_MP4_part2_starter_code.ipynb",
      "provenance": [],
      "collapsed_sections": []
    },
    "kernelspec": {
      "name": "python3",
      "display_name": "Python 3"
    },
    "accelerator": "GPU",
    "widgets": {
      "application/vnd.jupyter.widget-state+json": {
        "059cca7ee88e4822967dc7c9f44424cb": {
          "model_module": "@jupyter-widgets/controls",
          "model_name": "HBoxModel",
          "state": {
            "_view_name": "HBoxView",
            "_dom_classes": [],
            "_model_name": "HBoxModel",
            "_view_module": "@jupyter-widgets/controls",
            "_model_module_version": "1.5.0",
            "_view_count": null,
            "_view_module_version": "1.5.0",
            "box_style": "",
            "layout": "IPY_MODEL_aa9fb8ed546a454280b037c8d49070ba",
            "_model_module": "@jupyter-widgets/controls",
            "children": [
              "IPY_MODEL_20c751e4a984426c95881d700b4249b6",
              "IPY_MODEL_71e7b434a8ee44a5bf9c5e4462969d40"
            ]
          }
        },
        "aa9fb8ed546a454280b037c8d49070ba": {
          "model_module": "@jupyter-widgets/base",
          "model_name": "LayoutModel",
          "state": {
            "_view_name": "LayoutView",
            "grid_template_rows": null,
            "right": null,
            "justify_content": null,
            "_view_module": "@jupyter-widgets/base",
            "overflow": null,
            "_model_module_version": "1.2.0",
            "_view_count": null,
            "flex_flow": null,
            "width": null,
            "min_width": null,
            "border": null,
            "align_items": null,
            "bottom": null,
            "_model_module": "@jupyter-widgets/base",
            "top": null,
            "grid_column": null,
            "overflow_y": null,
            "overflow_x": null,
            "grid_auto_flow": null,
            "grid_area": null,
            "grid_template_columns": null,
            "flex": null,
            "_model_name": "LayoutModel",
            "justify_items": null,
            "grid_row": null,
            "max_height": null,
            "align_content": null,
            "visibility": null,
            "align_self": null,
            "height": null,
            "min_height": null,
            "padding": null,
            "grid_auto_rows": null,
            "grid_gap": null,
            "max_width": null,
            "order": null,
            "_view_module_version": "1.2.0",
            "grid_template_areas": null,
            "object_position": null,
            "object_fit": null,
            "grid_auto_columns": null,
            "margin": null,
            "display": null,
            "left": null
          }
        },
        "20c751e4a984426c95881d700b4249b6": {
          "model_module": "@jupyter-widgets/controls",
          "model_name": "IntProgressModel",
          "state": {
            "_view_name": "ProgressView",
            "style": "IPY_MODEL_3634ca0dff874ff4bffcf466882cb250",
            "_dom_classes": [],
            "description": "100%",
            "_model_name": "IntProgressModel",
            "bar_style": "success",
            "max": 572,
            "_view_module": "@jupyter-widgets/controls",
            "_model_module_version": "1.5.0",
            "value": 572,
            "_view_count": null,
            "_view_module_version": "1.5.0",
            "orientation": "horizontal",
            "min": 0,
            "description_tooltip": null,
            "_model_module": "@jupyter-widgets/controls",
            "layout": "IPY_MODEL_f80c32c7cfb24b88b2d7e61922ee9de7"
          }
        },
        "71e7b434a8ee44a5bf9c5e4462969d40": {
          "model_module": "@jupyter-widgets/controls",
          "model_name": "HTMLModel",
          "state": {
            "_view_name": "HTMLView",
            "style": "IPY_MODEL_d11ca6cb6a1d4403ba5d0f0951d949b6",
            "_dom_classes": [],
            "description": "",
            "_model_name": "HTMLModel",
            "placeholder": "​",
            "_view_module": "@jupyter-widgets/controls",
            "_model_module_version": "1.5.0",
            "value": " 572/572 [01:30&lt;00:00,  6.33it/s]",
            "_view_count": null,
            "_view_module_version": "1.5.0",
            "description_tooltip": null,
            "_model_module": "@jupyter-widgets/controls",
            "layout": "IPY_MODEL_87462d103acf400e8eea7c3e6f25ecd4"
          }
        },
        "3634ca0dff874ff4bffcf466882cb250": {
          "model_module": "@jupyter-widgets/controls",
          "model_name": "ProgressStyleModel",
          "state": {
            "_view_name": "StyleView",
            "_model_name": "ProgressStyleModel",
            "description_width": "initial",
            "_view_module": "@jupyter-widgets/base",
            "_model_module_version": "1.5.0",
            "_view_count": null,
            "_view_module_version": "1.2.0",
            "bar_color": null,
            "_model_module": "@jupyter-widgets/controls"
          }
        },
        "f80c32c7cfb24b88b2d7e61922ee9de7": {
          "model_module": "@jupyter-widgets/base",
          "model_name": "LayoutModel",
          "state": {
            "_view_name": "LayoutView",
            "grid_template_rows": null,
            "right": null,
            "justify_content": null,
            "_view_module": "@jupyter-widgets/base",
            "overflow": null,
            "_model_module_version": "1.2.0",
            "_view_count": null,
            "flex_flow": null,
            "width": null,
            "min_width": null,
            "border": null,
            "align_items": null,
            "bottom": null,
            "_model_module": "@jupyter-widgets/base",
            "top": null,
            "grid_column": null,
            "overflow_y": null,
            "overflow_x": null,
            "grid_auto_flow": null,
            "grid_area": null,
            "grid_template_columns": null,
            "flex": null,
            "_model_name": "LayoutModel",
            "justify_items": null,
            "grid_row": null,
            "max_height": null,
            "align_content": null,
            "visibility": null,
            "align_self": null,
            "height": null,
            "min_height": null,
            "padding": null,
            "grid_auto_rows": null,
            "grid_gap": null,
            "max_width": null,
            "order": null,
            "_view_module_version": "1.2.0",
            "grid_template_areas": null,
            "object_position": null,
            "object_fit": null,
            "grid_auto_columns": null,
            "margin": null,
            "display": null,
            "left": null
          }
        },
        "d11ca6cb6a1d4403ba5d0f0951d949b6": {
          "model_module": "@jupyter-widgets/controls",
          "model_name": "DescriptionStyleModel",
          "state": {
            "_view_name": "StyleView",
            "_model_name": "DescriptionStyleModel",
            "description_width": "",
            "_view_module": "@jupyter-widgets/base",
            "_model_module_version": "1.5.0",
            "_view_count": null,
            "_view_module_version": "1.2.0",
            "_model_module": "@jupyter-widgets/controls"
          }
        },
        "87462d103acf400e8eea7c3e6f25ecd4": {
          "model_module": "@jupyter-widgets/base",
          "model_name": "LayoutModel",
          "state": {
            "_view_name": "LayoutView",
            "grid_template_rows": null,
            "right": null,
            "justify_content": null,
            "_view_module": "@jupyter-widgets/base",
            "overflow": null,
            "_model_module_version": "1.2.0",
            "_view_count": null,
            "flex_flow": null,
            "width": null,
            "min_width": null,
            "border": null,
            "align_items": null,
            "bottom": null,
            "_model_module": "@jupyter-widgets/base",
            "top": null,
            "grid_column": null,
            "overflow_y": null,
            "overflow_x": null,
            "grid_auto_flow": null,
            "grid_area": null,
            "grid_template_columns": null,
            "flex": null,
            "_model_name": "LayoutModel",
            "justify_items": null,
            "grid_row": null,
            "max_height": null,
            "align_content": null,
            "visibility": null,
            "align_self": null,
            "height": null,
            "min_height": null,
            "padding": null,
            "grid_auto_rows": null,
            "grid_gap": null,
            "max_width": null,
            "order": null,
            "_view_module_version": "1.2.0",
            "grid_template_areas": null,
            "object_position": null,
            "object_fit": null,
            "grid_auto_columns": null,
            "margin": null,
            "display": null,
            "left": null
          }
        },
        "610116cb04c44af7b29c5bb4f4d6082d": {
          "model_module": "@jupyter-widgets/controls",
          "model_name": "HBoxModel",
          "state": {
            "_view_name": "HBoxView",
            "_dom_classes": [],
            "_model_name": "HBoxModel",
            "_view_module": "@jupyter-widgets/controls",
            "_model_module_version": "1.5.0",
            "_view_count": null,
            "_view_module_version": "1.5.0",
            "box_style": "",
            "layout": "IPY_MODEL_bd1b78a2d73e402eb424bf8b5fa82092",
            "_model_module": "@jupyter-widgets/controls",
            "children": [
              "IPY_MODEL_716e871d19a74a48946e998189459734",
              "IPY_MODEL_71d210ced75b4c75923ede325cb910f2"
            ]
          }
        },
        "bd1b78a2d73e402eb424bf8b5fa82092": {
          "model_module": "@jupyter-widgets/base",
          "model_name": "LayoutModel",
          "state": {
            "_view_name": "LayoutView",
            "grid_template_rows": null,
            "right": null,
            "justify_content": null,
            "_view_module": "@jupyter-widgets/base",
            "overflow": null,
            "_model_module_version": "1.2.0",
            "_view_count": null,
            "flex_flow": null,
            "width": null,
            "min_width": null,
            "border": null,
            "align_items": null,
            "bottom": null,
            "_model_module": "@jupyter-widgets/base",
            "top": null,
            "grid_column": null,
            "overflow_y": null,
            "overflow_x": null,
            "grid_auto_flow": null,
            "grid_area": null,
            "grid_template_columns": null,
            "flex": null,
            "_model_name": "LayoutModel",
            "justify_items": null,
            "grid_row": null,
            "max_height": null,
            "align_content": null,
            "visibility": null,
            "align_self": null,
            "height": null,
            "min_height": null,
            "padding": null,
            "grid_auto_rows": null,
            "grid_gap": null,
            "max_width": null,
            "order": null,
            "_view_module_version": "1.2.0",
            "grid_template_areas": null,
            "object_position": null,
            "object_fit": null,
            "grid_auto_columns": null,
            "margin": null,
            "display": null,
            "left": null
          }
        },
        "716e871d19a74a48946e998189459734": {
          "model_module": "@jupyter-widgets/controls",
          "model_name": "IntProgressModel",
          "state": {
            "_view_name": "ProgressView",
            "style": "IPY_MODEL_cabce22f99ac4186ae75656ec49a5092",
            "_dom_classes": [],
            "description": "100%",
            "_model_name": "IntProgressModel",
            "bar_style": "success",
            "max": 72,
            "_view_module": "@jupyter-widgets/controls",
            "_model_module_version": "1.5.0",
            "value": 72,
            "_view_count": null,
            "_view_module_version": "1.5.0",
            "orientation": "horizontal",
            "min": 0,
            "description_tooltip": null,
            "_model_module": "@jupyter-widgets/controls",
            "layout": "IPY_MODEL_6684859268c648f5ad2598af71a39108"
          }
        },
        "71d210ced75b4c75923ede325cb910f2": {
          "model_module": "@jupyter-widgets/controls",
          "model_name": "HTMLModel",
          "state": {
            "_view_name": "HTMLView",
            "style": "IPY_MODEL_2e94946beb1d4c16885efbb03d483037",
            "_dom_classes": [],
            "description": "",
            "_model_name": "HTMLModel",
            "placeholder": "​",
            "_view_module": "@jupyter-widgets/controls",
            "_model_module_version": "1.5.0",
            "value": " 72/72 [00:47&lt;00:00,  1.53it/s]",
            "_view_count": null,
            "_view_module_version": "1.5.0",
            "description_tooltip": null,
            "_model_module": "@jupyter-widgets/controls",
            "layout": "IPY_MODEL_91ad7466f1fc4b34b06cb89f1ff21f55"
          }
        },
        "cabce22f99ac4186ae75656ec49a5092": {
          "model_module": "@jupyter-widgets/controls",
          "model_name": "ProgressStyleModel",
          "state": {
            "_view_name": "StyleView",
            "_model_name": "ProgressStyleModel",
            "description_width": "initial",
            "_view_module": "@jupyter-widgets/base",
            "_model_module_version": "1.5.0",
            "_view_count": null,
            "_view_module_version": "1.2.0",
            "bar_color": null,
            "_model_module": "@jupyter-widgets/controls"
          }
        },
        "6684859268c648f5ad2598af71a39108": {
          "model_module": "@jupyter-widgets/base",
          "model_name": "LayoutModel",
          "state": {
            "_view_name": "LayoutView",
            "grid_template_rows": null,
            "right": null,
            "justify_content": null,
            "_view_module": "@jupyter-widgets/base",
            "overflow": null,
            "_model_module_version": "1.2.0",
            "_view_count": null,
            "flex_flow": null,
            "width": null,
            "min_width": null,
            "border": null,
            "align_items": null,
            "bottom": null,
            "_model_module": "@jupyter-widgets/base",
            "top": null,
            "grid_column": null,
            "overflow_y": null,
            "overflow_x": null,
            "grid_auto_flow": null,
            "grid_area": null,
            "grid_template_columns": null,
            "flex": null,
            "_model_name": "LayoutModel",
            "justify_items": null,
            "grid_row": null,
            "max_height": null,
            "align_content": null,
            "visibility": null,
            "align_self": null,
            "height": null,
            "min_height": null,
            "padding": null,
            "grid_auto_rows": null,
            "grid_gap": null,
            "max_width": null,
            "order": null,
            "_view_module_version": "1.2.0",
            "grid_template_areas": null,
            "object_position": null,
            "object_fit": null,
            "grid_auto_columns": null,
            "margin": null,
            "display": null,
            "left": null
          }
        },
        "2e94946beb1d4c16885efbb03d483037": {
          "model_module": "@jupyter-widgets/controls",
          "model_name": "DescriptionStyleModel",
          "state": {
            "_view_name": "StyleView",
            "_model_name": "DescriptionStyleModel",
            "description_width": "",
            "_view_module": "@jupyter-widgets/base",
            "_model_module_version": "1.5.0",
            "_view_count": null,
            "_view_module_version": "1.2.0",
            "_model_module": "@jupyter-widgets/controls"
          }
        },
        "91ad7466f1fc4b34b06cb89f1ff21f55": {
          "model_module": "@jupyter-widgets/base",
          "model_name": "LayoutModel",
          "state": {
            "_view_name": "LayoutView",
            "grid_template_rows": null,
            "right": null,
            "justify_content": null,
            "_view_module": "@jupyter-widgets/base",
            "overflow": null,
            "_model_module_version": "1.2.0",
            "_view_count": null,
            "flex_flow": null,
            "width": null,
            "min_width": null,
            "border": null,
            "align_items": null,
            "bottom": null,
            "_model_module": "@jupyter-widgets/base",
            "top": null,
            "grid_column": null,
            "overflow_y": null,
            "overflow_x": null,
            "grid_auto_flow": null,
            "grid_area": null,
            "grid_template_columns": null,
            "flex": null,
            "_model_name": "LayoutModel",
            "justify_items": null,
            "grid_row": null,
            "max_height": null,
            "align_content": null,
            "visibility": null,
            "align_self": null,
            "height": null,
            "min_height": null,
            "padding": null,
            "grid_auto_rows": null,
            "grid_gap": null,
            "max_width": null,
            "order": null,
            "_view_module_version": "1.2.0",
            "grid_template_areas": null,
            "object_position": null,
            "object_fit": null,
            "grid_auto_columns": null,
            "margin": null,
            "display": null,
            "left": null
          }
        }
      }
    }
  },
  "cells": [
    {
      "cell_type": "code",
      "metadata": {
        "id": "_2uohksRc8R6",
        "colab_type": "code",
        "colab": {
          "base_uri": "https://localhost:8080/",
          "height": 122
        },
        "outputId": "ab706f0b-2b5f-4b52-e59c-a2854fa0cd20"
      },
      "source": [
        "# Mounting your Google Drive is optional, and you could also simply copy and\n",
        "# upload the data to your colab instance. This manula upload is also easy to do, \n",
        "# but you will have to figure out how to do it.\n",
        "from google.colab import drive\n",
        "drive.mount('/content/gdrive/')"
      ],
      "execution_count": 1,
      "outputs": [
        {
          "output_type": "stream",
          "text": [
            "Go to this URL in a browser: https://accounts.google.com/o/oauth2/auth?client_id=947318989803-6bn6qk8qdgf4n4g3pfee6491hc0brc4i.apps.googleusercontent.com&redirect_uri=urn%3aietf%3awg%3aoauth%3a2.0%3aoob&response_type=code&scope=email%20https%3a%2f%2fwww.googleapis.com%2fauth%2fdocs.test%20https%3a%2f%2fwww.googleapis.com%2fauth%2fdrive%20https%3a%2f%2fwww.googleapis.com%2fauth%2fdrive.photos.readonly%20https%3a%2f%2fwww.googleapis.com%2fauth%2fpeopleapi.readonly\n",
            "\n",
            "Enter your authorization code:\n",
            "··········\n",
            "Mounted at /content/gdrive/\n"
          ],
          "name": "stdout"
        }
      ]
    },
    {
      "cell_type": "code",
      "metadata": {
        "id": "sLFBEMfVdHId",
        "colab_type": "code",
        "colab": {}
      },
      "source": [
        "import os\n",
        "if not os.path.exists(\"/content/gdrive/My Drive/CS_543_MP4\"):\n",
        "    os.makedirs(\"/content/gdrive/My Drive/CS_543_MP4\")\n",
        "os.chdir(\"/content/gdrive/My Drive/CS_543_MP4\")"
      ],
      "execution_count": 0,
      "outputs": []
    },
    {
      "cell_type": "markdown",
      "metadata": {
        "colab_type": "text",
        "id": "geohpotit_Ek"
      },
      "source": [
        ""
      ]
    },
    {
      "cell_type": "code",
      "metadata": {
        "id": "UzpXeiVddIdi",
        "colab_type": "code",
        "colab": {
          "base_uri": "https://localhost:8080/",
          "height": 51
        },
        "outputId": "9ccec6a9-392c-4af1-aa53-563e79eed455"
      },
      "source": [
        "import glob\n",
        "import os\n",
        "import numpy as np\n",
        "import seaborn as sns\n",
        "from tqdm.notebook import tqdm\n",
        "import matplotlib.pyplot as plt\n",
        "from sklearn.metrics import confusion_matrix, average_precision_score\n",
        "\n",
        "from PIL import Image\n",
        "import torch\n",
        "from torch import nn\n",
        "from torch.utils import data\n",
        "from torchvision.transforms import ToTensor"
      ],
      "execution_count": 4,
      "outputs": [
        {
          "output_type": "stream",
          "text": [
            "/usr/local/lib/python3.6/dist-packages/statsmodels/tools/_testing.py:19: FutureWarning: pandas.util.testing is deprecated. Use the functions in the public API at pandas.testing instead.\n",
            "  import pandas.util.testing as tm\n"
          ],
          "name": "stderr"
        }
      ]
    },
    {
      "cell_type": "code",
      "metadata": {
        "id": "RTlJmzl7dR4_",
        "colab_type": "code",
        "colab": {}
      },
      "source": [
        "DATASET_PATH = 'data/sbd/'\n",
        "\n",
        "class SegmentationDataset(data.Dataset):\n",
        "    \"\"\"\n",
        "    Data loader for the Segmentation Dataset. If data loading is a bottleneck, \n",
        "    you may want to optimize this in for faster training. Possibilities include\n",
        "    pre-loading all images and annotations into memory before training, so as \n",
        "    to limit delays due to disk reads.\n",
        "    \"\"\"\n",
        "    def __init__(self, split=\"train\", data_dir=DATASET_PATH):\n",
        "        assert(split in [\"train\", \"val\", \"test\"])\n",
        "        self.img_dir = os.path.join(data_dir, split)\n",
        "        self.classes = []\n",
        "        with open(os.path.join(data_dir, 'classes.txt'), 'r') as f:\n",
        "          for l in f:\n",
        "            self.classes.append(l.rstrip())\n",
        "        self.n_classes = len(self.classes)\n",
        "        self.split = split\n",
        "        self.data = glob.glob(self.img_dir + '/*.jpg') \n",
        "        self.data = [os.path.splitext(l)[0] for l in self.data]\n",
        "\n",
        "    def __len__(self):\n",
        "        return len(self.data)\n",
        "\n",
        "    def __getitem__(self, index):\n",
        "        img = Image.open(self.data[index] + '.jpg')\n",
        "        gt = Image.open(self.data[index] + '.png')\n",
        "        \n",
        "        img = ToTensor()(img)\n",
        "        gt = torch.LongTensor(np.asarray(gt)).unsqueeze(0)\n",
        "        return img, gt"
      ],
      "execution_count": 0,
      "outputs": []
    },
    {
      "cell_type": "code",
      "metadata": {
        "id": "4oMHIGsCdckB",
        "colab_type": "code",
        "colab": {}
      },
      "source": [
        "##########\n",
        "#TODO: design your own network here. The expectation is to write from scratch. But it's okay to get some inspiration \n",
        "#from conference paper. The bottom line is that you will not just copy code from other repo\n",
        "##########\n",
        "class MyModel(nn.Module):\n",
        "\n",
        "    def __init__(self): # feel free to modify input paramters\n",
        "        super(MyModel, self).__init__()\n",
        "        pass\n",
        "\n",
        "    def forward(self, *params): # feel free to modify input paramters\n",
        "        pass"
      ],
      "execution_count": 0,
      "outputs": []
    },
    {
      "cell_type": "code",
      "metadata": {
        "id": "D6Dtn7yudjC8",
        "colab_type": "code",
        "colab": {}
      },
      "source": [
        "def segmentation_eval(gts, preds, classes, plot_file_name):\n",
        "    \"\"\"\n",
        "    @param    gts               numpy.ndarray   ground truth labels\n",
        "    @param    preds             numpy.ndarray   predicted labels\n",
        "    @param    classes           string          class names\n",
        "    @param    plot_file_name    string          plot file names\n",
        "    \"\"\"\n",
        "    ious, counts = compute_confusion_matrix(gts, preds)\n",
        "    aps = compute_ap(gts, preds)\n",
        "    plot_results(counts, ious, aps, classes, plot_file_name)\n",
        "    for i in range(len(classes)):\n",
        "        print('{:>20s}: AP: {:0.2f}, IoU: {:0.2f}'.format(classes[i], aps[i], ious[i]))\n",
        "    print('{:>20s}: AP: {:0.2f}, IoU: {:0.2f}'.format('mean', np.mean(aps), np.mean(ious)))\n",
        "    return aps, ious\n",
        "\n",
        "def plot_results(counts, ious, aps, classes, file_name):\n",
        "    fig, ax = plt.subplots(1,1)\n",
        "    conf = counts / np.sum(counts, 1, keepdims=True)\n",
        "    conf = np.concatenate([conf, np.array(aps).reshape(-1,1), \n",
        "                           np.array(ious).reshape(-1,1)], 1)\n",
        "    conf = conf * 100.\n",
        "    sns.heatmap(conf, annot=True, ax=ax, fmt='3.0f') \n",
        "    arts = [] \n",
        "    # labels, title and ticks\n",
        "    _ = ax.set_xlabel('Predicted labels')\n",
        "    arts.append(_)\n",
        "    _ = ax.set_ylabel('True labels')\n",
        "    arts.append(_)\n",
        "    _ = ax.set_title('Confusion Matrix, mAP: {:5.1f}, mIoU: {:5.1f}'.format(\n",
        "      np.mean(aps)*100., np.mean(ious)*100.))\n",
        "    arts.append(_)\n",
        "    _ = ax.xaxis.set_ticklabels(classes + ['AP', 'IoU'], rotation=90)\n",
        "    arts.append(_)\n",
        "    _ = ax.yaxis.set_ticklabels(classes, rotation=0)\n",
        "    arts.append(_)\n",
        "    fig.savefig(file_name, bbox_inches='tight')\n",
        "\n",
        "def compute_ap(gts, preds):\n",
        "    aps = []\n",
        "    for i in range(preds.shape[1]):\n",
        "      ap, prec, rec = calc_pr(gts == i, preds[:,i:i+1,:,:])\n",
        "      aps.append(ap)\n",
        "    return aps\n",
        "\n",
        "def calc_pr(gt, out, wt=None):\n",
        "    gt = gt.astype(np.float64).reshape((-1,1))\n",
        "    out = out.astype(np.float64).reshape((-1,1))\n",
        "\n",
        "    tog = np.concatenate([gt, out], axis=1)*1.\n",
        "    ind = np.argsort(tog[:,1], axis=0)[::-1]\n",
        "    tog = tog[ind,:]\n",
        "    cumsumsortgt = np.cumsum(tog[:,0])\n",
        "    cumsumsortwt = np.cumsum(tog[:,0]-tog[:,0]+1)\n",
        "    prec = cumsumsortgt / cumsumsortwt\n",
        "    rec = cumsumsortgt / np.sum(tog[:,0])\n",
        "    ap = voc_ap(rec, prec)\n",
        "    return ap, rec, prec\n",
        "\n",
        "def voc_ap(rec, prec):\n",
        "    rec = rec.reshape((-1,1))\n",
        "    prec = prec.reshape((-1,1))\n",
        "    z = np.zeros((1,1)) \n",
        "    o = np.ones((1,1))\n",
        "    mrec = np.vstack((z, rec, o))\n",
        "    mpre = np.vstack((z, prec, z))\n",
        "\n",
        "    mpre = np.maximum.accumulate(mpre[::-1])[::-1]\n",
        "    I = np.where(mrec[1:] != mrec[0:-1])[0]+1;\n",
        "    ap = np.sum((mrec[I] - mrec[I-1])*mpre[I])\n",
        "    return ap\n",
        "\n",
        "def compute_confusion_matrix(gts, preds):\n",
        "    preds_cls = np.argmax(preds, 1)\n",
        "    gts = gts[:,0,:,:]\n",
        "    conf = confusion_matrix(gts.ravel(), preds_cls.ravel())\n",
        "    inter = np.diag(conf)\n",
        "    union = np.sum(conf, 0) + np.sum(conf, 1) - np.diag(conf)\n",
        "    union = np.maximum(union, 1)\n",
        "    return inter / union, conf"
      ],
      "execution_count": 0,
      "outputs": []
    },
    {
      "cell_type": "code",
      "metadata": {
        "id": "aeZky2AHeyec",
        "colab_type": "code",
        "colab": {}
      },
      "source": [
        "# Colab has GPUs, you will have to move tensors and models to GPU.\n",
        "device = torch.device(\"cuda:0\")"
      ],
      "execution_count": 0,
      "outputs": []
    },
    {
      "cell_type": "code",
      "metadata": {
        "id": "yUEu8F7Je27N",
        "colab_type": "code",
        "colab": {}
      },
      "source": [
        "#############\n",
        "#TODO: initialize your model \n",
        "model = MyModel().to(device) "
      ],
      "execution_count": 0,
      "outputs": []
    },
    {
      "cell_type": "code",
      "metadata": {
        "id": "okJ-P_JGesKq",
        "colab_type": "code",
        "colab": {}
      },
      "source": [
        "# This is a trivial semantic segmentor. For eqch pixel location it computes the \n",
        "# distribution of the class label in the training set and uses that as the \n",
        "# prediction. Quite unsuprisingly it doesn't perform very well. Though we provide\n",
        "# this code so that you can understand the data formats for the benchmarking \n",
        "# functions.\n",
        "def simple_train():\n",
        "    train_dataset = SegmentationDataset(split='train')\n",
        "    train_dataloader = data.DataLoader(train_dataset, batch_size=1, \n",
        "                                       shuffle=True, num_workers=4, \n",
        "                                       drop_last=True)\n",
        "    counts = np.zeros((train_dataset.n_classes, 224, 288))\n",
        "    N = 0\n",
        "    for i, batch in enumerate(tqdm(train_dataloader)):\n",
        "      img, gt = batch\n",
        "      gt = gt.cpu().numpy()\n",
        "      for j in range(train_dataset.n_classes):\n",
        "          counts[j,:,:] += gt[0,0,:,:] == j\n",
        "      N += 1\n",
        "    model = counts / N\n",
        "    return model\n",
        "\n",
        "def simple_predict(split, model):\n",
        "    dataset = SegmentationDataset(split=split, data_dir=DATASET_PATH)\n",
        "    dataloader = data.DataLoader(dataset, batch_size=1, shuffle=False, \n",
        "                                 num_workers=0, drop_last=False)\n",
        "    gts, preds = [], []\n",
        "    for i, batch in enumerate(tqdm(dataloader)):\n",
        "      img, gt = batch\n",
        "      gt = gt.cpu().numpy()\n",
        "      gts.append(gt[0,:,:,:])\n",
        "      preds.append(model)\n",
        "\n",
        "    gts = np.array(gts)\n",
        "    preds = np.array(preds)\n",
        "    return gts, preds, list(dataset.classes)"
      ],
      "execution_count": 0,
      "outputs": []
    },
    {
      "cell_type": "code",
      "metadata": {
        "id": "3sJiJPb3huXK",
        "colab_type": "code",
        "colab": {}
      },
      "source": [
        "########################################################################\n",
        "# TODO: Implement your training cycles, make sure you evaluate on validation \n",
        "# dataset and compute evaluation metrics every so often. \n",
        "# You may also want to save models that perform well."
      ],
      "execution_count": 0,
      "outputs": []
    },
    {
      "cell_type": "code",
      "metadata": {
        "id": "HA9WZ-Nqh1Ka",
        "colab_type": "code",
        "colab": {
          "base_uri": "https://localhost:8080/",
          "height": 713,
          "referenced_widgets": [
            "059cca7ee88e4822967dc7c9f44424cb",
            "aa9fb8ed546a454280b037c8d49070ba",
            "20c751e4a984426c95881d700b4249b6",
            "71e7b434a8ee44a5bf9c5e4462969d40",
            "3634ca0dff874ff4bffcf466882cb250",
            "f80c32c7cfb24b88b2d7e61922ee9de7",
            "d11ca6cb6a1d4403ba5d0f0951d949b6",
            "87462d103acf400e8eea7c3e6f25ecd4",
            "610116cb04c44af7b29c5bb4f4d6082d",
            "bd1b78a2d73e402eb424bf8b5fa82092",
            "716e871d19a74a48946e998189459734",
            "71d210ced75b4c75923ede325cb910f2",
            "cabce22f99ac4186ae75656ec49a5092",
            "6684859268c648f5ad2598af71a39108",
            "2e94946beb1d4c16885efbb03d483037",
            "91ad7466f1fc4b34b06cb89f1ff21f55"
          ]
        },
        "outputId": "82c4e696-a76f-46ad-e4ff-3ab6d90eded2"
      },
      "source": [
        "########################################################################\n",
        "# TODO: Evaluate your result, and report Mean average precision on test dataset \n",
        "# using provided helper function. Here we show how we can train and evaluate the \n",
        "# simple model that we provided on the validation set. You will want to report\n",
        "# performance on the validation set for the variants you tried, and the \n",
        "# performance of the final model on the test set.\n",
        "model = simple_train()\n",
        "gts, preds, classes = simple_predict('val', model)\n",
        "aps, ious = segmentation_eval(gts, preds, classes, 'cs543-simple-val.pdf')"
      ],
      "execution_count": 13,
      "outputs": [
        {
          "output_type": "display_data",
          "data": {
            "application/vnd.jupyter.widget-view+json": {
              "model_id": "059cca7ee88e4822967dc7c9f44424cb",
              "version_minor": 0,
              "version_major": 2
            },
            "text/plain": [
              "HBox(children=(IntProgress(value=0, max=572), HTML(value='')))"
            ]
          },
          "metadata": {
            "tags": []
          }
        },
        {
          "output_type": "stream",
          "text": [
            "/pytorch/torch/csrc/utils/tensor_numpy.cpp:141: UserWarning: The given NumPy array is not writeable, and PyTorch does not support non-writeable tensors. This means you can write to the underlying (supposedly non-writeable) NumPy array using the tensor. You may want to copy the array to protect its data or make it writeable before converting it to a tensor. This type of warning will be suppressed for the rest of this program.\n",
            "/pytorch/torch/csrc/utils/tensor_numpy.cpp:141: UserWarning: The given NumPy array is not writeable, and PyTorch does not support non-writeable tensors. This means you can write to the underlying (supposedly non-writeable) NumPy array using the tensor. You may want to copy the array to protect its data or make it writeable before converting it to a tensor. This type of warning will be suppressed for the rest of this program.\n",
            "/pytorch/torch/csrc/utils/tensor_numpy.cpp:141: UserWarning: The given NumPy array is not writeable, and PyTorch does not support non-writeable tensors. This means you can write to the underlying (supposedly non-writeable) NumPy array using the tensor. You may want to copy the array to protect its data or make it writeable before converting it to a tensor. This type of warning will be suppressed for the rest of this program.\n",
            "/pytorch/torch/csrc/utils/tensor_numpy.cpp:141: UserWarning: The given NumPy array is not writeable, and PyTorch does not support non-writeable tensors. This means you can write to the underlying (supposedly non-writeable) NumPy array using the tensor. You may want to copy the array to protect its data or make it writeable before converting it to a tensor. This type of warning will be suppressed for the rest of this program.\n"
          ],
          "name": "stderr"
        },
        {
          "output_type": "stream",
          "text": [
            "\n"
          ],
          "name": "stdout"
        },
        {
          "output_type": "display_data",
          "data": {
            "application/vnd.jupyter.widget-view+json": {
              "model_id": "610116cb04c44af7b29c5bb4f4d6082d",
              "version_minor": 0,
              "version_major": 2
            },
            "text/plain": [
              "HBox(children=(IntProgress(value=0, max=72), HTML(value='')))"
            ]
          },
          "metadata": {
            "tags": []
          }
        },
        {
          "output_type": "stream",
          "text": [
            "/pytorch/torch/csrc/utils/tensor_numpy.cpp:141: UserWarning: The given NumPy array is not writeable, and PyTorch does not support non-writeable tensors. This means you can write to the underlying (supposedly non-writeable) NumPy array using the tensor. You may want to copy the array to protect its data or make it writeable before converting it to a tensor. This type of warning will be suppressed for the rest of this program.\n"
          ],
          "name": "stderr"
        },
        {
          "output_type": "stream",
          "text": [
            "\n",
            "                 sky: AP: 0.55, IoU: 0.40\n",
            "                tree: AP: 0.22, IoU: 0.00\n",
            "                road: AP: 0.58, IoU: 0.46\n",
            "               grass: AP: 0.11, IoU: 0.00\n",
            "               water: AP: 0.12, IoU: 0.00\n",
            "            building: AP: 0.36, IoU: 0.28\n",
            "            mountain: AP: 0.02, IoU: 0.00\n",
            "          foreground: AP: 0.28, IoU: 0.18\n",
            "                misc: AP: 0.01, IoU: 0.00\n",
            "                mean: AP: 0.25, IoU: 0.15\n"
          ],
          "name": "stdout"
        },
        {
          "output_type": "display_data",
          "data": {
            "image/png": "[encoded data removed]",
            "text/plain": [
              "<Figure size 432x288 with 2 Axes>"
            ]
          },
          "metadata": {
            "tags": [],
            "needs_background": "light"
          }
        }
      ]
    },
    {
      "cell_type": "code",
      "metadata": {
        "id": "ClAPEOkqpBew",
        "colab_type": "code",
        "colab": {}
      },
      "source": [
        ""
      ],
      "execution_count": 0,
      "outputs": []
    }
  ]
}