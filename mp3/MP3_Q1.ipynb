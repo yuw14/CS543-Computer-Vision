{
 "cells": [
  {
   "cell_type": "markdown",
   "metadata": {},
   "source": [
    "# Image Stitching (Python)\n",
    "\n",
    "## Usage\n",
    "This code snippet provides an overall code structure and some interactive plot interfaces for the Stitching Pairs of Images section of MP 3. In main function, we outline the required functionalities step by step. Feel free to make modifications on the starter code if it's necessary.\n",
    "\n",
    "## Package installation\n",
    "- `opencv <= 3.4.2`\n",
    "- `numpy`\n",
    "- `skimage`\n",
    "- `scipy`"
   ]
  },
  {
   "cell_type": "markdown",
   "metadata": {},
   "source": [
    "# Common imports"
   ]
  },
  {
   "cell_type": "code",
   "execution_count": 1,
   "metadata": {},
   "outputs": [],
   "source": [
    "import numpy as np\n",
    "import skimage\n",
    "import cv2\n",
    "import matplotlib\n",
    "from PIL import Image\n",
    "import matplotlib.pyplot as plt\n",
    "from scipy.spatial import distance\n",
    "import scipy\n",
    "import scipy.ndimage\n",
    "import skimage.feature"
   ]
  },
  {
   "cell_type": "markdown",
   "metadata": {},
   "source": [
    "# Helper functions"
   ]
  },
  {
   "cell_type": "code",
   "execution_count": 2,
   "metadata": {},
   "outputs": [],
   "source": [
    "def imread(fname):\n",
    "    \"\"\"\n",
    "    read image into np array from file\n",
    "    \"\"\"\n",
    "    return skimage.io.imread(fname)\n",
    "\n",
    "def imread_bw(fname):\n",
    "    \"\"\"\n",
    "    read image as gray scale format\n",
    "    \"\"\"\n",
    "    return cv2.cvtColor(imread(fname), cv2.COLOR_BGR2GRAY)\n",
    "\n",
    "def imshow(img):\n",
    "    \"\"\"\n",
    "    show image\n",
    "    \"\"\"\n",
    "    skimage.io.imshow(img)\n",
    "    \n",
    "def get_sift_data(img):\n",
    "    \"\"\"\n",
    "    detect the keypoints and compute their SIFT descriptors with opencv library\n",
    "    \"\"\"\n",
    "    sift = cv2.xfeatures2d.SIFT_create()\n",
    "    kp, des = sift.detectAndCompute(img, None)\n",
    "    return kp, des\n",
    "\n",
    "def plot_inlier_matches(ax, img1, img2, inliers):\n",
    "    \"\"\"\n",
    "    plot the match between two image according to the matched keypoints\n",
    "    :param ax: plot handle\n",
    "    :param img1: left image\n",
    "    :param img2: right image\n",
    "    :inliers: x,y in the first image and x,y in the second image (Nx4)\n",
    "    \"\"\"\n",
    "    res = np.hstack([img1, img2])\n",
    "    ax.set_aspect('equal')\n",
    "    ax.imshow(res, cmap='gray')\n",
    "    \n",
    "    ax.plot(inliers[:,0], inliers[:,1], '+r')\n",
    "    ax.plot(inliers[:,2] + img1.shape[1], inliers[:,3], '+r')\n",
    "    ax.plot([inliers[:,0], inliers[:,2] + img1.shape[1]],\n",
    "            [inliers[:,1], inliers[:,3]], 'r', linewidth=0.4)\n",
    "    ax.axis('off')"
   ]
  },
  {
   "cell_type": "markdown",
   "metadata": {},
   "source": [
    "## Configurations"
   ]
  },
  {
   "cell_type": "code",
   "execution_count": null,
   "metadata": {},
   "outputs": [],
   "source": [
    "descriptor_pairs = 200\n",
    "iterations = 10000\n",
    "threshold = 0.9"
   ]
  },
  {
   "cell_type": "markdown",
   "metadata": {},
   "source": [
    "# Your implementations"
   ]
  },
  {
   "cell_type": "code",
   "execution_count": 3,
   "metadata": {},
   "outputs": [
    {
     "ename": "SyntaxError",
     "evalue": "invalid syntax (<ipython-input-3-a044a8adcac4>, line 13)",
     "output_type": "error",
     "traceback": [
      "\u001b[0;36m  File \u001b[0;32m\"<ipython-input-3-a044a8adcac4>\"\u001b[0;36m, line \u001b[0;32m13\u001b[0m\n\u001b[0;31m    def ransac(...):\u001b[0m\n\u001b[0m                 ^\u001b[0m\n\u001b[0;31mSyntaxError\u001b[0m\u001b[0;31m:\u001b[0m invalid syntax\n"
     ]
    }
   ],
   "source": [
    "def get_best_matches(img1, img2, num_matches):\n",
    "    kp1, des1 = get_sift_data(img1)\n",
    "    kp2, des2 = get_sift_data(img2)\n",
    "    kp1, kp2 = np.array(kp1), np.array(kp2)\n",
    "    \n",
    "    # Find distance between descriptors in images\n",
    "    dist = scipy.spatial.distance.cdist(des1, des2, 'sqeuclidean')\n",
    "    \n",
    "    # Write your code to get the matches according to dist\n",
    "    # <YOUR CODE>\n",
    "    bf = np.argpartition(dis, num_matches, axis=None)[:num_matches]\n",
    "    l = np.zeros((num_matches, 3))\n",
    "    r = np.zeros((num_matches, 3))   \n",
    "    b = np.ones((len(bf), 2), dtype=int)\n",
    "    for i, j in enumerate(bf):\n",
    "        b[i] = [j//dis.shape[1], j%dis.shape[1]]\n",
    "#     for i in range(num_matches):\n",
    "#         l[i,:2] = kp1[b[i,0]].pt\n",
    "#         r[i,:2] = kp2[b[i,1]].pt\n",
    "    print(b)\n",
    "    return l,r,b, kp1, kp2\n",
    "\n",
    "def ransac(l,r,b,kp1, kp2, iterations):\n",
    "    \"\"\"\n",
    "    write your ransac code to find the best model, inliers, and residuals\n",
    "    \"\"\"\n",
    "    # <YOUR CODE>\n",
    "    for x in range(iterations):\n",
    "        a1, a2 = compute_homography(b,kp1,kp2 )\n",
    "        some = np.ones((7,8))\n",
    "        c = 0\n",
    "        while count<4:\n",
    "            some[2*c+1,6:] = -a1[c,0]*a2[c]\n",
    "            some[2*c+1,6:] = -a1[c,0]*a2[c]\n",
    "            some[2*c+1,:3] = a2[c]\n",
    "            some[2*c,3:6] = a2[c]\n",
    "            c+=1\n",
    "        P,pi,hey = np.linalg.svd(some)\n",
    "        indemediate = hey @ l.T\n",
    "        residual = r.T[:2]-indermediate\n",
    "        inliers = len(np.where(residual<threshold)[0])\n",
    "        hey = hey[len(hey)-1]\n",
    "        mh = hey.reshape((3,3))\n",
    "    return mh\n",
    "    \n",
    "def compute_homography(kp1, kp2, b):\n",
    "    \"\"\"\n",
    "    write your code to compute homography according to the matches\n",
    "    \"\"\"\n",
    "    # <YOUR CODE>\n",
    "    a1 = np.zeros((4, 2))\n",
    "    a2 = np.zeros((4, 3))    \n",
    "    array = np.ones((4,2))\n",
    "    for i in range(4):\n",
    "        p1 = np.random.randint(len(b))\n",
    "        p = b[p1]\n",
    "        if pair[0]==array[i,0]:\n",
    "            p3=p[1]\n",
    "            p4=p[0]\n",
    "            a1[i] = kp1[p3].pt\n",
    "            a2[i,:2] = kp2[p4].pt\n",
    "        else: continue\n",
    "    return a1,a2\n",
    "\n",
    "def warp_images(img1, img2, mh):\n",
    "    \"\"\"\n",
    "    write your code to stitch images together according to the homography\n",
    "    \"\"\"\n",
    "    # <YOUR CODE>\n",
    "    i1,i2 = img1.shape[:2]\n",
    "    target = np.vstack((mh(np.array([[0, 0],[0, r],[c, 0],[c, r]])), \n",
    "                        np.array([[0, 0],[0, r],[c, 0],[c, r]])))\n",
    "    abc = nh - np.random.randint(len(b))\n",
    "    os = skimage.transform.SimilarityTransform(abc)\n",
    "    shape = np.ceil(np.max(target) - np.min(target)[::-1])\n",
    "    img0 = skimage.transform.warp(img0, os.inverse, shape, cval=-1)\n",
    "    img1 = skimage.transform.warp(img1, (mh + os).inverse, shape, cval=-1)\n",
    "    result = (img0+img2)/((img1!=1.0 + img2!=1.0).astype(int))\n",
    "    img = Imgae.fromarray((result*255).astype('uint8'), mode='RGB')\n",
    "    img.show()"
   ]
  },
  {
   "cell_type": "markdown",
   "metadata": {},
   "source": [
    "## Configurations"
   ]
  },
  {
   "cell_type": "code",
   "execution_count": null,
   "metadata": {},
   "outputs": [],
   "source": [
    "descriptor_pairs = 200\n",
    "iterations = 10000\n",
    "threshold = 0.9"
   ]
  },
  {
   "cell_type": "markdown",
   "metadata": {},
   "source": [
    "# Main functions"
   ]
  },
  {
   "cell_type": "code",
   "execution_count": null,
   "metadata": {},
   "outputs": [],
   "source": [
    "# load images\n",
    "img1 = imread('./data/Q1/stitch/left.jpg')\n",
    "img2 = imread('./data/Q1/stitch/right.jpg')"
   ]
  },
  {
   "cell_type": "code",
   "execution_count": null,
   "metadata": {},
   "outputs": [],
   "source": [
    "# part (c) compute and display the initial SIFT matching result\n",
    "data = get_best_matches(img1, img2, 300)\n",
    "fig, ax = plt.subplots(figsize=(20,10))\n",
    "plot_inlier_matches(ax, img1, img2, data)\n",
    "fig.savefig('sift_match.pdf', bbox_inches='tight')"
   ]
  },
  {
   "cell_type": "code",
   "execution_count": null,
   "metadata": {},
   "outputs": [],
   "source": [
    "# part (d) performn RANSAC to get the homography and inliers, \n",
    "# display the inlier matching, report the average residual\n",
    "# <YOUR CODE>\n",
    "l,r,b, kp1, kp2 = get_best_matches(img1, img2, num_matches)\n",
    "mh = ransac(l,r,b,kp1, kp2, iterations)\n",
    "# print(\"Average residual:\", np.average(best_model_errors))\n",
    "# print(\"Inliers:\", max_inliers)\n",
    "# fig.savefig('ransac_match.pdf', bbox_inches='tight')"
   ]
  },
  {
   "cell_type": "code",
   "execution_count": null,
   "metadata": {},
   "outputs": [],
   "source": [
    "# part (e) warp images to stitch them together, \n",
    "# display and report the stitching results\n",
    "# <YOUR CODE>\n",
    "warp_images(img1, img2, mh)\n",
    "print('The number of inliers:', inliers[1])\n",
    "print('The average residual:', residual)\n",
    "plot_inlier_matches(ax, l, r, inliers)\n",
    "# cv2.imwrite('stitched_images.jpg', im[:,:,::-1]*255., \n",
    "#             [int(cv2.IMWRITE_JPEG_QUALITY), 90])"
   ]
  },
  {
   "cell_type": "markdown",
   "metadata": {},
   "source": [
    "## EC"
   ]
  },
  {
   "cell_type": "code",
   "execution_count": null,
   "metadata": {},
   "outputs": [],
   "source": [
    "img1 = imread('./data/Q1/extra_credits/hill/1.jpg')\n",
    "img2 = imread('./data/Q1/extra_credits/hill/2.jpg')\n",
    "img3 = imread('./data/Q1/extra_credits/hill/3.jpg')\n",
    "l,r,b, kp1, kp2 = get_best_matches(img1, img2, num_matches)\n",
    "mh = ransac(l,r,b,kp1, kp2, iterations)\n",
    "warp_images(img1, img2, mh)\n",
    "l,r,b, kp1, kp2 = get_best_matches(img, img3, num_matches)\n",
    "mh = ransac(l,r,b,kp1, kp2, iterations)\n",
    "warp_images(img, img3, mh)"
   ]
  }
 ],
 "metadata": {
  "kernelspec": {
   "display_name": "Python 3",
   "language": "python",
   "name": "python3"
  },
  "language_info": {
   "codemirror_mode": {
    "name": "ipython",
    "version": 3
   },
   "file_extension": ".py",
   "mimetype": "text/x-python",
   "name": "python",
   "nbconvert_exporter": "python",
   "pygments_lexer": "ipython3",
   "version": "3.7.3"
  }
 },
 "nbformat": 4,
 "nbformat_minor": 2
}
